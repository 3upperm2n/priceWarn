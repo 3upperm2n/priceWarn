{
 "cells": [
  {
   "cell_type": "code",
   "execution_count": 1,
   "metadata": {
    "collapsed": true
   },
   "outputs": [],
   "source": [
    "from googlefinance import getQuotes\n",
    "import sys"
   ]
  },
  {
   "cell_type": "markdown",
   "metadata": {},
   "source": [
    "### email function"
   ]
  },
  {
   "cell_type": "code",
   "execution_count": 2,
   "metadata": {
    "collapsed": true
   },
   "outputs": [],
   "source": [
    "import getpass\n",
    "import smtplib\n",
    "from email.MIMEMultipart import MIMEMultipart\n",
    "from email.MIMEBase import MIMEBase\n",
    "from email.MIMEText import MIMEText\n",
    "from email import Encoders\n",
    "import os\n",
    "\n",
    "# reference\n",
    "# https://gist.github.com/dbieber/5146518"
   ]
  },
  {
   "cell_type": "code",
   "execution_count": 3,
   "metadata": {
    "collapsed": true
   },
   "outputs": [],
   "source": [
    "gmail_user = 'ylm.neu@gmail.com'\n",
    "gmail_pwd = 'r9bbtzhy'"
   ]
  },
  {
   "cell_type": "code",
   "execution_count": 4,
   "metadata": {
    "collapsed": true
   },
   "outputs": [],
   "source": [
    "def mail(to, subject, text, attach=None):\n",
    "    global gmail_user, gmail_pwd\n",
    "    msg = MIMEMultipart()\n",
    "    msg['From'] = gmail_user\n",
    "    msg['To'] = to\n",
    "    msg['Subject'] = subject\n",
    "    msg.attach(MIMEText(text))\n",
    "    if attach:\n",
    "        part = MIMEBase('application', 'octet-stream')\n",
    "        part.set_payload(open(attach, 'rb').read())\n",
    "        Encoders.encode_base64(part)\n",
    "        part.add_header('Content-Disposition', 'attachment; filename=\"%s\"' % os.path.basename(attach))\n",
    "        msg.attach(part)\n",
    "    mailServer = smtplib.SMTP(\"smtp.gmail.com\", 587)\n",
    "    mailServer.ehlo()\n",
    "    mailServer.starttls()\n",
    "    mailServer.ehlo()\n",
    "    mailServer.login(gmail_user, gmail_pwd)\n",
    "    mailServer.sendmail(gmail_user, to, msg.as_string())\n",
    "    mailServer.close()"
   ]
  },
  {
   "cell_type": "code",
   "execution_count": 5,
   "metadata": {
    "collapsed": false
   },
   "outputs": [],
   "source": [
    "# try:\n",
    "#     mail(\"leimingyu830@gmail.com\", \"雷鸣友情提醒\", \"test!\")\n",
    "#     print 'Email sent!'\n",
    "    \n",
    "# except:\n",
    "#     print 'Something went wrong...'"
   ]
  },
  {
   "cell_type": "markdown",
   "metadata": {},
   "source": [
    "### google finance for stock price"
   ]
  },
  {
   "cell_type": "code",
   "execution_count": 6,
   "metadata": {
    "collapsed": true
   },
   "outputs": [],
   "source": [
    "target_list = ['AMD', 'QCOM', 'NVDA']"
   ]
  },
  {
   "cell_type": "code",
   "execution_count": 7,
   "metadata": {
    "collapsed": true
   },
   "outputs": [],
   "source": [
    "# basic info\n",
    "buy_price_dd = {}\n",
    "buy_volume_dd = {}\n",
    "\n",
    "buy_price_dd['AMD'] = 13.105\n",
    "buy_volume_dd['AMD'] = 200\n",
    "\n",
    "buy_price_dd['QCOM'] = 61.8246\n",
    "buy_volume_dd['QCOM'] = 500\n",
    "\n",
    "buy_price_dd['NVDA'] = 100.8448\n",
    "buy_volume_dd['NVDA'] = 200"
   ]
  },
  {
   "cell_type": "code",
   "execution_count": 8,
   "metadata": {
    "collapsed": false
   },
   "outputs": [],
   "source": [
    "for stock_name in target_list:\n",
    "    result = getQuotes(stock_name)\n",
    "    current_time = result[0]['LastTradeDateTimeLong']\n",
    "    current_price = float(result[0]['LastTradePrice'])\n",
    "    \n",
    "    my_price = buy_price_dd[stock_name]\n",
    "    my_volume = buy_volume_dd[stock_name]\n",
    "    \n",
    "    gainSell_price = my_price * 1.13 # increase 13%\n",
    "    loseSell_price = my_price * 0.99 # drop 10%\n",
    "    \n",
    "    if current_price >= gainSell_price or current_price <= loseSell_price:\n",
    "        send_msg = stock_name + ' : \\n成本 ' + str(my_price) +  ', \\n现价 ' + str(current_price) + '\\n'\n",
    "        send_msg += str(current_time)\n",
    "        try:\n",
    "            mail(\"leimingyu830@gmail.com\", \"股市提醒\", send_msg)\n",
    "        except:\n",
    "            sys.stderr.write('Something went wrong...')"
   ]
  }
 ],
 "metadata": {
  "kernelspec": {
   "display_name": "Python [conda root]",
   "language": "python",
   "name": "conda-root-py"
  },
  "language_info": {
   "codemirror_mode": {
    "name": "ipython",
    "version": 2
   },
   "file_extension": ".py",
   "mimetype": "text/x-python",
   "name": "python",
   "nbconvert_exporter": "python",
   "pygments_lexer": "ipython2",
   "version": "2.7.13"
  }
 },
 "nbformat": 4,
 "nbformat_minor": 2
}
